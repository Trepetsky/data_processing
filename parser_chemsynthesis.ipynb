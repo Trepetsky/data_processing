{
  "nbformat": 4,
  "nbformat_minor": 0,
  "metadata": {
    "colab": {
      "name": "parser_chemsynthesis.ipynb",
      "provenance": [],
      "collapsed_sections": [],
      "mount_file_id": "1mDJYcTn4-CELse7GNnGva3QlFlRwLyzu",
      "authorship_tag": "ABX9TyMYSWTuj/ZSUdsHoHSMXkBB",
      "include_colab_link": true
    },
    "kernelspec": {
      "name": "python3",
      "display_name": "Python 3"
    },
    "language_info": {
      "name": "python"
    }
  },
  "cells": [
    {
      "cell_type": "markdown",
      "metadata": {
        "id": "view-in-github",
        "colab_type": "text"
      },
      "source": [
        "<a href=\"https://colab.research.google.com/github/Trepetsky/data_processing/blob/main/parser_chemsynthesis.ipynb\" target=\"_parent\"><img src=\"https://colab.research.google.com/assets/colab-badge.svg\" alt=\"Open In Colab\"/></a>"
      ]
    },
    {
      "cell_type": "code",
      "execution_count": null,
      "metadata": {
        "id": "e0WDSvfFNwOa"
      },
      "outputs": [],
      "source": [
        "import requests\n",
        "from bs4 import BeautifulSoup as bs\n",
        "from tqdm import tqdm\n",
        "import pandas as pd"
      ]
    },
    {
      "cell_type": "code",
      "source": [
        "response = requests.get(\"https://www.chemsynthesis.com/base/chemical-structure-1.html\").text\n",
        "soup = bs(response, \"html5lib\")\n",
        "name = soup.find(\"h1\")\n",
        "block1 = soup.find(\"div\", id=\"compound_card_content\")\n",
        "df_prop1 = pd.DataFrame(dict([i.text.split(\":\") for i in block1.find_all(\"li\")]), index=[0])\n",
        "\n",
        "block2 = soup.find(\"div\", id=\"compound_card_chars\")\n",
        "df_prop2 = pd.DataFrame(dict([i.text.split(\":\") for i in block2.find_all(\"td\")[3].find_all(\"div\")]), index=[0])\n",
        "\n",
        "df_prop = pd.concat([df_prop1, df_prop2], axis=1)\n",
        "#table = pd.read_html(table)\n",
        "for i in tqdm(range(2, 40367)):\n",
        "  response = requests.get(f\"https://www.chemsynthesis.com/base/chemical-structure-{i}.html\").text\n",
        "  soup = bs(response, \"html5lib\")\n",
        "  name = soup.find(\"h1\")\n",
        "\n",
        "  block1 = soup.find(\"div\", id=\"compound_card_content\")\n",
        "  df_prop_for1 = pd.DataFrame(dict([i.text.split(\":\") for i in block1.find_all(\"li\")]), index=[0])\n",
        "  \n",
        "  block2 = soup.find(\"div\", id=\"compound_card_chars\")\n",
        "  df_prop_for2 = pd.DataFrame(dict([i.text.split(\":\") for i in block2.find_all(\"td\")[3].find_all(\"div\")]), index=[0])\n",
        "\n",
        "  df_prop_for = pd.concat([df_prop_for1, df_prop_for2], axis=1)\n",
        "  \n",
        "  \n",
        "  df_prop = df_prop.append(df_prop_for)\n",
        "print(df_prop.head(10))\n",
        "df_prop.to_csv('drive/MyDrive/chemsynthesis/data.csv')"
      ],
      "metadata": {
        "colab": {
          "base_uri": "https://localhost:8080/"
        },
        "id": "tr4-nJ90XUwz",
        "outputId": "34adf8bd-a078-4632-fb69-3abbca399452"
      },
      "execution_count": null,
      "outputs": [
        {
          "output_type": "stream",
          "name": "stderr",
          "text": [
            "100%|██████████| 40365/40365 [2:42:27<00:00,  4.14it/s]\n"
          ]
        },
        {
          "output_type": "stream",
          "name": "stdout",
          "text": [
            "  Molecular Formula Molecular Weight     Cas Number EINECS Number  \\\n",
            "0           C6H11Br    163.057 g/mol      108-85-0      203-622-2   \n",
            "0          C8H8BrNO    214.062 g/mol      103-88-8      203-154-9   \n",
            "0            C8H13I    236.096 g/mol    81438-46-2            n/a   \n",
            "0           C13H17N    187.285 g/mol     1658-08-8            n/a   \n",
            "0         C8H6BrNO3    244.045 g/mol     6851-99-6            n/a   \n",
            "0           C8H7NO3    165.149 g/mol    39830-70-1            n/a   \n",
            "0          C10H9NO2    175.187 g/mol       83-25-0            n/a   \n",
            "0          C13H10O2    198.221 g/mol       93-99-2      202-293-2   \n",
            "0           C18H15N    245.324 g/mol      603-34-9      210-035-5   \n",
            "0           C8H16O2    144.214 g/mol      933-40-4            n/a   \n",
            "\n",
            "        MDL Number                    InChIKey  \\\n",
            "0    MFCD00003819    AQNQQHJNRPDOQV-UHFFFAOYAD   \n",
            "0    MFCD00000092    MSLICLMCQYQNPK-KZFATGLACL   \n",
            "0              n/a   DLYVHHMFVYQCEP-UHFFFAOYAN   \n",
            "0    MFCD00005032    LLCXJIQXTXEQID-UHFFFAOYAR   \n",
            "0    MFCD00010294    SGXUUCSRVVSMGK-UHFFFAOYAF   \n",
            "0              n/a   KYHJWLAPKITUMU-UHFFFAOYAE   \n",
            "0    MFCD00022587    ZTUKZULGOCFJET-UHFFFAOYAY   \n",
            "0    MFCD00003072    FCJSHPDYVMKCHI-UHFFFAOYAU   \n",
            "0    MFCD00003020    ODHXBMXNKOYIBV-UHFFFAOYAF   \n",
            "0    MFCD00043714    XPIJMQVLTXAGME-UHFFFAOYAO   \n",
            "\n",
            "                                    Smiles Melting Point   \\\n",
            "0                               BrC1CCCCC1         -57 ºC   \n",
            "0                   CC(=O)NC1=CC=C(Br)C=C1     166-170 ºC   \n",
            "0                               CCCCCCC#CI            n/a   \n",
            "0                C1CCC2=C(C1)C=C3CCCCC3=N2       66-68 ºC   \n",
            "0        [O-][N+](=O)C1=C(C=CC=C1)C(=O)CBr       55-57 ºC   \n",
            "0           [O-][N+](=O)C1=C(C=CC=C1)C2CO2       64-65 ºC   \n",
            "0                 O=C1CCC(=O)N1C2=CC=CC=C2            n/a   \n",
            "0             O=C(OC1=CC=CC=C1)C2=CC=CC=C2       68-70 ºC   \n",
            "0   C1=CC=C(C=C1)N(C2=CC=CC=C2)C3=CC=CC=C3     125-127 ºC   \n",
            "0                           COC1(CCCCC1)OC            n/a   \n",
            "\n",
            "            Boiling Point       Density  Refractive Index   \n",
            "0               166-167 ºC     1.33 g/mL           1.4950   \n",
            "0                      n/a    1.717 g/mL               n/a  \n",
            "0                      n/a           n/a               n/a  \n",
            "0                      n/a           n/a               n/a  \n",
            "0                      n/a           n/a               n/a  \n",
            "0                   273 ºC    1.372 g/mL            1.612   \n",
            "0                      n/a           n/a               n/a  \n",
            "0               298-299 ºC           n/a               n/a  \n",
            "0               347-348 ºC           n/a               n/a  \n",
            "0    83  ºC\\n\\t\\t(50 mmHg)    0.948 g/mL            1.439   \n"
          ]
        }
      ]
    }
  ]
}